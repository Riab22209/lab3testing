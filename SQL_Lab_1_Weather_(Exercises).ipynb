{
  "nbformat": 4,
  "nbformat_minor": 0,
  "metadata": {
    "colab": {
      "provenance": [],
      "toc_visible": true,
      "include_colab_link": true
    },
    "kernelspec": {
      "name": "python3",
      "display_name": "Python 3"
    },
    "language_info": {
      "name": "python"
    }
  },
  "cells": [
    {
      "cell_type": "markdown",
      "metadata": {
        "id": "view-in-github",
        "colab_type": "text"
      },
      "source": [
        "<a href=\"https://colab.research.google.com/github/Riab22209/lab3testing/blob/main/SQL_Lab_1_Weather_(Exercises).ipynb\" target=\"_parent\"><img src=\"https://colab.research.google.com/assets/colab-badge.svg\" alt=\"Open In Colab\"/></a>"
      ]
    },
    {
      "cell_type": "markdown",
      "source": [
        "# Lab 1 Setting up the Weather database\n",
        "\n",
        "We need to download the database first by using the following code in a *code block* and also upgrade the version of the SQL database (SQLite).\n",
        "We can run the code by pressing the \"▶\" play button. This needs to be run once at the begining of the session.\n",
        "\n",
        "\n"
      ],
      "metadata": {
        "id": "OCtTWGYkkl5j"
      }
    },
    {
      "cell_type": "code",
      "execution_count": null,
      "metadata": {
        "id": "802CfVXHZ36C",
        "colab": {
          "base_uri": "https://localhost:8080/"
        },
        "outputId": "2530f434-68c8-485e-d0e8-6e1c39f42e70"
      },
      "outputs": [
        {
          "output_type": "stream",
          "name": "stdout",
          "text": [
            "\n",
            "WARNING: apt does not have a stable CLI interface. Use with caution in scripts.\n",
            "\n",
            "debconf: unable to initialize frontend: Dialog\n",
            "debconf: (No usable dialog-like program is installed, so the dialog based frontend cannot be used. at /usr/share/perl5/Debconf/FrontEnd/Dialog.pm line 76, <> line 3.)\n",
            "debconf: falling back to frontend: Readline\n",
            "debconf: unable to initialize frontend: Readline\n",
            "debconf: (This frontend requires a controlling tty.)\n",
            "debconf: falling back to frontend: Teletype\n",
            "dpkg-preconfigure: unable to re-open stdin: \n",
            "Looking in indexes: https://pypi.org/simple, https://us-python.pkg.dev/colab-wheels/public/simple/\n",
            "Collecting sqlalchemy==1.4.47\n",
            "  Downloading SQLAlchemy-1.4.47-cp39-cp39-manylinux_2_5_x86_64.manylinux1_x86_64.manylinux_2_17_x86_64.manylinux2014_x86_64.whl (1.6 MB)\n",
            "\u001b[2K     \u001b[90m━━━━━━━━━━━━━━━━━━━━━━━━━━━━━━━━━━━━━━━━\u001b[0m \u001b[32m1.6/1.6 MB\u001b[0m \u001b[31m19.9 MB/s\u001b[0m eta \u001b[36m0:00:00\u001b[0m\n",
            "\u001b[?25hRequirement already satisfied: greenlet!=0.4.17 in /usr/local/lib/python3.9/dist-packages (from sqlalchemy==1.4.47) (2.0.2)\n",
            "Installing collected packages: sqlalchemy\n",
            "  Attempting uninstall: sqlalchemy\n",
            "    Found existing installation: SQLAlchemy 2.0.10\n",
            "    Uninstalling SQLAlchemy-2.0.10:\n",
            "      Successfully uninstalled SQLAlchemy-2.0.10\n",
            "Successfully installed sqlalchemy-1.4.47\n",
            "3.41.2 2023-03-17 14:22:45 78836713c965066cb9c1cc732a9cecb1d74a25f37775a01c088393881e4falt1\n"
          ]
        }
      ],
      "source": [
        "!wget https://essexuniversity.box.com/shared/static/c3vee0c2iclzc9wouhblr9jp5v7lix0o.db -O weather.db &> /dev/null\n",
        "!sudo sudo add-apt-repository -y ppa:linuxgndu/sqlitebrowser >/dev/null\n",
        "!sudo apt update > /dev/null\n",
        "!sudo apt-get install -y sqlite3 >/dev/null\n",
        "!pip install sqlalchemy==1.4.47\n",
        "!sqlite3 --version\n",
        "import os\n",
        "os._exit(00)"
      ]
    },
    {
      "cell_type": "markdown",
      "source": [
        "In order to issue SQL commands we will use the SQLite capabilities of Google Colab by loading the SQL extension with the statement `%load_ext sql`:\n",
        "\n",
        "\n",
        "\n",
        "\n",
        "\n"
      ],
      "metadata": {
        "id": "qR9pTQP_lMek"
      }
    },
    {
      "cell_type": "code",
      "source": [
        "# now we can use the magic extension to connect to our SQLite DB\n",
        "# use %sql to write an inline SQL command\n",
        "%load_ext sql\n",
        "# Loads the downloaded database (weather data) inthis case\n",
        "%sql sqlite:///weather.db \n",
        "# Shows the sqlite version\n",
        "%sql SELECT sqlite_version();"
      ],
      "metadata": {
        "id": "PJ4DfKFAl61U",
        "colab": {
          "base_uri": "https://localhost:8080/",
          "height": 96
        },
        "outputId": "4927360f-3787-4be6-e17a-c2c4124a44c1"
      },
      "execution_count": 1,
      "outputs": [
        {
          "output_type": "stream",
          "name": "stdout",
          "text": [
            " * sqlite:///weather.db\n",
            "Done.\n"
          ]
        },
        {
          "output_type": "execute_result",
          "data": {
            "text/plain": [
              "[('3.41.2',)]"
            ],
            "text/html": [
              "<table>\n",
              "    <tr>\n",
              "        <th>sqlite_version()</th>\n",
              "    </tr>\n",
              "    <tr>\n",
              "        <td>3.41.2</td>\n",
              "    </tr>\n",
              "</table>"
            ]
          },
          "metadata": {},
          "execution_count": 1
        }
      ]
    },
    {
      "cell_type": "markdown",
      "source": [
        "Then we can run SQL queries by using:\n",
        "- the `%sql` expression for a single line query\n",
        "- the `%%sql` expression for a multiple line query"
      ],
      "metadata": {
        "id": "4QfrX3cUfAIJ"
      }
    },
    {
      "cell_type": "markdown",
      "source": [
        "## Display all tables\n",
        "As an example we cal display all the tabled loadded in the database by using the\n",
        "following statement:"
      ],
      "metadata": {
        "id": "xtxPVOqAmbc_"
      }
    },
    {
      "cell_type": "code",
      "source": [
        "# Display all the table names \n",
        "# omiting the ones starting with \"sqlite_\" (internal not to be used directly)\n",
        "%%sql \n",
        "SELECT name FROM sqlite_master WHERE type='table' AND name NOT LIKE 'sqlite_%';"
      ],
      "metadata": {
        "id": "-KcRTZ-omQ5b",
        "colab": {
          "base_uri": "https://localhost:8080/",
          "height": 310
        },
        "outputId": "99debbc0-ed25-4dbc-d31f-83b28b042b2a"
      },
      "execution_count": 2,
      "outputs": [
        {
          "output_type": "stream",
          "name": "stdout",
          "text": [
            " * sqlite:///weather.db\n",
            "Done.\n"
          ]
        },
        {
          "output_type": "execute_result",
          "data": {
            "text/plain": [
              "[('cat_locations',),\n",
              " ('cat_postcode_latlong',),\n",
              " ('cat_regions',),\n",
              " ('country',),\n",
              " ('metoffice_dailyweatherdata',),\n",
              " ('metoffice_forecast_text',),\n",
              " ('postcodelatlng',),\n",
              " ('tempW',),\n",
              " ('timezone',),\n",
              " ('weatherType',),\n",
              " ('zones',)]"
            ],
            "text/html": [
              "<table>\n",
              "    <tr>\n",
              "        <th>name</th>\n",
              "    </tr>\n",
              "    <tr>\n",
              "        <td>cat_locations</td>\n",
              "    </tr>\n",
              "    <tr>\n",
              "        <td>cat_postcode_latlong</td>\n",
              "    </tr>\n",
              "    <tr>\n",
              "        <td>cat_regions</td>\n",
              "    </tr>\n",
              "    <tr>\n",
              "        <td>country</td>\n",
              "    </tr>\n",
              "    <tr>\n",
              "        <td>metoffice_dailyweatherdata</td>\n",
              "    </tr>\n",
              "    <tr>\n",
              "        <td>metoffice_forecast_text</td>\n",
              "    </tr>\n",
              "    <tr>\n",
              "        <td>postcodelatlng</td>\n",
              "    </tr>\n",
              "    <tr>\n",
              "        <td>tempW</td>\n",
              "    </tr>\n",
              "    <tr>\n",
              "        <td>timezone</td>\n",
              "    </tr>\n",
              "    <tr>\n",
              "        <td>weatherType</td>\n",
              "    </tr>\n",
              "    <tr>\n",
              "        <td>zones</td>\n",
              "    </tr>\n",
              "</table>"
            ]
          },
          "metadata": {},
          "execution_count": 2
        }
      ]
    },
    {
      "cell_type": "markdown",
      "source": [
        "# Exercise PART I\n",
        "MySQL can open multiple databases so we need to specify the name of the database (e.g. `DATABASE_NAME.TABLE_NAME`).\n",
        "But `SQLite` (the SQL database that we use in this notebook) opens only one database at a time and we don't use the name of the database. As an example the table `cat_regions` is:\n",
        "- **MySQL**: `weather_db.cat_regions`\n",
        "- **SQLite**: `cat_regions`"
      ],
      "metadata": {
        "id": "PrM6f9-To_Rb"
      }
    },
    {
      "cell_type": "markdown",
      "source": [
        "## Exercise 1\n",
        "Using the CREATE TABLE statement, create a table called `client_data` with the\n",
        "following schema:\n",
        "\n",
        "Field       | Data Type  | Constaint\n",
        "------------|------------|-------------------\n",
        "ID          | integer    | Primary key\n",
        "First_name  | varchar 40 | NOT NULL\n",
        "Last_name   | varchar 40 | None\n",
        "Nationality | varchar 40 | None\n",
        "Age         | float      | greather than 18"
      ],
      "metadata": {
        "id": "ze018k6GnSzR"
      }
    },
    {
      "cell_type": "code",
      "source": [
        "%%sql\n",
        "drop table client_data;\n",
        "create table client_data (\n",
        "  ID int PRIMARY KEY,\n",
        " First_name  varchar(40) NOT NULL,\n",
        " Last_name varchar(40) NOT NULL,\n",
        " Nationality varchar(40) ,\n",
        " Age decimal(6) CHECK(Age>18)\n",
        ")"
      ],
      "metadata": {
        "id": "iZlIUQtjoDL9",
        "colab": {
          "base_uri": "https://localhost:8080/"
        },
        "outputId": "7e9d1424-d813-4a31-bcc0-782dab183cbe"
      },
      "execution_count": 9,
      "outputs": [
        {
          "output_type": "stream",
          "name": "stdout",
          "text": [
            " * sqlite:///weather.db\n",
            "Done.\n",
            "Done.\n"
          ]
        },
        {
          "output_type": "execute_result",
          "data": {
            "text/plain": [
              "[]"
            ]
          },
          "metadata": {},
          "execution_count": 9
        }
      ]
    },
    {
      "cell_type": "markdown",
      "source": [
        "## Exercise 2\n",
        "Insert the following records in the data base using the `INSERT` statement:\n",
        "\n",
        "ID\t| first_name\t| last_name\t| nationality\t| Age\n",
        "----|-------------|-----------|-------------|------\n",
        "1\t  | John\t      | S\t        | British\t    |None\n",
        "2\t  | Peter\t      |Jackson    |\tNone\t      |20\n",
        "3\t  | Tom         |\tW         |\tNone        |20\n",
        "4\t  | Jack\t      |Patrick\t  | American    |30\n"
      ],
      "metadata": {
        "id": "Vygc9mSnoU-t"
      }
    },
    {
      "cell_type": "code",
      "source": [
        "%%sql\n",
        "Insert into client_data\n",
        "values (1,'John','S','British',NULL),\n",
        "(2,'Peter','Jackson',NULL,20),\n",
        "(3,'Tom','W',NULL,20),\n",
        "(4,'Jack','Patrick','American',30)"
      ],
      "metadata": {
        "id": "StD7JBHrofnq",
        "colab": {
          "base_uri": "https://localhost:8080/"
        },
        "outputId": "0ee2c317-ad15-4134-bb42-9b2a612fd885"
      },
      "execution_count": 11,
      "outputs": [
        {
          "output_type": "stream",
          "name": "stdout",
          "text": [
            " * sqlite:///weather.db\n",
            "4 rows affected.\n"
          ]
        },
        {
          "output_type": "execute_result",
          "data": {
            "text/plain": [
              "[]"
            ]
          },
          "metadata": {},
          "execution_count": 11
        }
      ]
    },
    {
      "cell_type": "markdown",
      "source": [
        "## Exercise 3\n",
        "Add a column called \"type\" to the Client_data table and fill the records of this column with the value '1' for the records where nationality is known, and '2' otherwise."
      ],
      "metadata": {
        "id": "kvzCq3UepDfm"
      }
    },
    {
      "cell_type": "code",
      "source": [
        "%%sql\n",
        "Alter table client_data add type  int;\n",
        "UPDATE client_data set type=2 ;\n",
        "UPDATE client_data set type=1 where Nationality is not NULL ;"
      ],
      "metadata": {
        "id": "cYeO4zMaryPS",
        "colab": {
          "base_uri": "https://localhost:8080/"
        },
        "outputId": "4da05516-6f5b-44a7-83f0-7abfdb3f38c5"
      },
      "execution_count": 14,
      "outputs": [
        {
          "output_type": "stream",
          "name": "stdout",
          "text": [
            " * sqlite:///weather.db\n",
            "(sqlite3.OperationalError) duplicate column name: type\n",
            "[SQL: Alter table client_data add type  int;]\n",
            "(Background on this error at: https://sqlalche.me/e/14/e3q8)\n"
          ]
        }
      ]
    },
    {
      "cell_type": "markdown",
      "source": [
        "## Exercise 4\n",
        "Delete the records of the table client_data where the last name is unknown.\n",
        "Although we don’t have any fields with this constraint, we can still use:"
      ],
      "metadata": {
        "id": "PZnrabrDr1Bm"
      }
    },
    {
      "cell_type": "code",
      "source": [
        "%%sql\n",
        "delete from client_data where last_name is null;"
      ],
      "metadata": {
        "id": "tIFVLVouMkSK",
        "colab": {
          "base_uri": "https://localhost:8080/"
        },
        "outputId": "7ff72e64-d230-4aeb-f5cc-0ef4e90fc50e"
      },
      "execution_count": 24,
      "outputs": [
        {
          "output_type": "stream",
          "name": "stdout",
          "text": [
            " * sqlite:///weather.db\n",
            "0 rows affected.\n"
          ]
        },
        {
          "output_type": "execute_result",
          "data": {
            "text/plain": [
              "[]"
            ]
          },
          "metadata": {},
          "execution_count": 24
        }
      ]
    },
    {
      "cell_type": "markdown",
      "source": [
        "## Exercise 5\n",
        "Delete all the content from the column ‘Age’ **without** deleting the column from the schema."
      ],
      "metadata": {
        "id": "GCB5U6_8sEfC"
      }
    },
    {
      "cell_type": "code",
      "source": [
        "%%sql\n",
        "update client_data set Age=NULL;"
      ],
      "metadata": {
        "id": "NN2BIVfss2n1",
        "colab": {
          "base_uri": "https://localhost:8080/"
        },
        "outputId": "cdee0f9e-5abe-4134-a97c-2ca3dba41c9f"
      },
      "execution_count": 25,
      "outputs": [
        {
          "output_type": "stream",
          "name": "stdout",
          "text": [
            " * sqlite:///weather.db\n",
            "4 rows affected.\n"
          ]
        },
        {
          "output_type": "execute_result",
          "data": {
            "text/plain": [
              "[]"
            ]
          },
          "metadata": {},
          "execution_count": 25
        }
      ]
    },
    {
      "cell_type": "markdown",
      "source": [
        "## Exercise 6\n",
        "Delete table client_data including the schema.\n",
        "\n"
      ],
      "metadata": {
        "id": "Q5gDXv_Vpyb7"
      }
    },
    {
      "cell_type": "code",
      "source": [
        "%%sql\n",
        "drop table client_data;"
      ],
      "metadata": {
        "id": "NihNzD_NrTJ6",
        "colab": {
          "base_uri": "https://localhost:8080/"
        },
        "outputId": "725f42bd-b034-4dd1-c8b3-3544bf5dd69a"
      },
      "execution_count": 29,
      "outputs": [
        {
          "output_type": "stream",
          "name": "stdout",
          "text": [
            " * sqlite:///weather.db\n",
            "Done.\n"
          ]
        },
        {
          "output_type": "execute_result",
          "data": {
            "text/plain": [
              "[]"
            ]
          },
          "metadata": {},
          "execution_count": 29
        }
      ]
    },
    {
      "cell_type": "code",
      "source": [
        "%%sql\n",
        "select * from client_data;"
      ],
      "metadata": {
        "colab": {
          "base_uri": "https://localhost:8080/"
        },
        "id": "0tQ1w1a7Vf4G",
        "outputId": "cb91e649-2f57-47f6-d2ff-69946a1064ac"
      },
      "execution_count": 30,
      "outputs": [
        {
          "output_type": "stream",
          "name": "stdout",
          "text": [
            " * sqlite:///weather.db\n",
            "(sqlite3.OperationalError) no such table: client_data\n",
            "[SQL: select * from client_data;]\n",
            "(Background on this error at: https://sqlalche.me/e/14/e3q8)\n"
          ]
        }
      ]
    },
    {
      "cell_type": "markdown",
      "source": [
        "# PART 2\n",
        "\n",
        "## Exercise 1\n",
        "There are many records in the table `cat_locations` where the country column is null. Fill these records with the value `\"UK\"`."
      ],
      "metadata": {
        "id": "p43wpcolECBH"
      }
    },
    {
      "cell_type": "code",
      "source": [
        "%%sql\n",
        "update cat_locations set Country='UK' where Country is null;\n"
      ],
      "metadata": {
        "id": "juhrKvXiEK9f",
        "colab": {
          "base_uri": "https://localhost:8080/"
        },
        "outputId": "e450b930-aaa9-4b9c-88fe-4398436dd9dc"
      },
      "execution_count": 33,
      "outputs": [
        {
          "output_type": "stream",
          "name": "stdout",
          "text": [
            " * sqlite:///weather.db\n",
            "5968 rows affected.\n"
          ]
        },
        {
          "output_type": "execute_result",
          "data": {
            "text/plain": [
              "[]"
            ]
          },
          "metadata": {},
          "execution_count": 33
        }
      ]
    },
    {
      "cell_type": "markdown",
      "source": [
        "\n",
        "## Exercise 2\n",
        "Delete the rows from table `tempW` where rainfall is `null`"
      ],
      "metadata": {
        "id": "7mjjR3GlEPic"
      }
    },
    {
      "cell_type": "code",
      "source": [
        "%%sql\n",
        "select * from tempW;"
      ],
      "metadata": {
        "colab": {
          "base_uri": "https://localhost:8080/",
          "height": 331
        },
        "id": "9HIHjoofXWa9",
        "outputId": "6fe1573e-0496-4d43-d084-65b3288ed05e"
      },
      "execution_count": 40,
      "outputs": [
        {
          "output_type": "stream",
          "name": "stdout",
          "text": [
            " * sqlite:///weather.db\n",
            "Done.\n"
          ]
        },
        {
          "output_type": "execute_result",
          "data": {
            "text/plain": [
              "[(3672, '2015-02-20 00:00:00', '2015-02-20', '00:00:00', 6.8, 6, 94.1, 0.0, 0, 0, 0, '220', '\\\\N', '0.6', 0.0),\n",
              " (3672, '2015-02-20 01:00:00', '2015-02-20', '01:00:00', 6.7, 7, 95.5, 0.0, 0, 0, 0, '220', '\\\\N', '0.2', 0.0),\n",
              " (3672, '2015-02-20 02:00:00', '2015-02-20', '02:00:00', 6.5, 5, 95.5, 0.0, 0, 0, 0, '230', '\\\\N', '0.2', 0.0),\n",
              " (3672, '2015-02-20 03:00:00', '2015-02-20', '03:00:00', 6.5, 5, 95.5, 0.0, 0, 0, 0, '230', '\\\\N', '0.8', 0.0),\n",
              " (3672, '2015-02-20 04:00:00', '2015-02-20', '04:00:00', 6.4, 7, 93.9, 0.0, 0, 0, 0, '240', '\\\\N', '0.4', 0.0),\n",
              " (3672, '2015-02-20 05:00:00', '2015-02-20', '05:00:00', 6.1, 6, 92.4, 0.0, 0, 0, 0, '270', '\\\\N', '0.2', 0.0),\n",
              " (3672, '2015-02-20 06:00:00', '2015-02-20', '06:00:00', 5.5, 7, 90.6, 0.0, 0, 0, 0, '280', '\\\\N', '0', 0.0),\n",
              " (3672, '2015-02-20 07:00:00', '2015-02-20', '07:00:00', 4.7, 5, 91.9, 0.0, 0, 0, 0, '290', '\\\\N', '0', 0.0),\n",
              " (3672, '2015-02-20 08:00:00', '2015-02-20', '08:00:00', 4.5, 3, 91.7, 0.0, 0, 0, 0, '290', '\\\\N', '0', 0.0),\n",
              " (3672, '2015-02-20 09:00:00', '2015-02-20', '09:00:00', 4.9, 2, 92.0, 0.0, 0, 0, 0, '270', '\\\\N', '0', 0.0),\n",
              " (3672, '2015-02-20 10:00:00', '2015-02-20', '10:00:00', 5.3, 2, 90.5, 0.0, 0, 0, 0, '340', '\\\\N', '0', 0.0),\n",
              " (3672, '2015-02-20 11:00:00', '2015-02-20', '11:00:00', 5.8, 2, 84.6, 0.0, 0, 0, 0, '310', '\\\\N', '0', 0.0)]"
            ],
            "text/html": [
              "<table>\n",
              "    <tr>\n",
              "        <th>LocationId</th>\n",
              "        <th>obs_dateTime</th>\n",
              "        <th>obs_date</th>\n",
              "        <th>obs_time</th>\n",
              "        <th>temperature</th>\n",
              "        <th>windspeed</th>\n",
              "        <th>humidity</th>\n",
              "        <th>dewpoint</th>\n",
              "        <th>pressure</th>\n",
              "        <th>windgust</th>\n",
              "        <th>visibility</th>\n",
              "        <th>winddirection</th>\n",
              "        <th>pressuretendency</th>\n",
              "        <th>rainfall</th>\n",
              "        <th>radiation</th>\n",
              "    </tr>\n",
              "    <tr>\n",
              "        <td>3672</td>\n",
              "        <td>2015-02-20 00:00:00</td>\n",
              "        <td>2015-02-20</td>\n",
              "        <td>00:00:00</td>\n",
              "        <td>6.8</td>\n",
              "        <td>6</td>\n",
              "        <td>94.1</td>\n",
              "        <td>0.0</td>\n",
              "        <td>0</td>\n",
              "        <td>0</td>\n",
              "        <td>0</td>\n",
              "        <td>220</td>\n",
              "        <td>\\N</td>\n",
              "        <td>0.6</td>\n",
              "        <td>0.0</td>\n",
              "    </tr>\n",
              "    <tr>\n",
              "        <td>3672</td>\n",
              "        <td>2015-02-20 01:00:00</td>\n",
              "        <td>2015-02-20</td>\n",
              "        <td>01:00:00</td>\n",
              "        <td>6.7</td>\n",
              "        <td>7</td>\n",
              "        <td>95.5</td>\n",
              "        <td>0.0</td>\n",
              "        <td>0</td>\n",
              "        <td>0</td>\n",
              "        <td>0</td>\n",
              "        <td>220</td>\n",
              "        <td>\\N</td>\n",
              "        <td>0.2</td>\n",
              "        <td>0.0</td>\n",
              "    </tr>\n",
              "    <tr>\n",
              "        <td>3672</td>\n",
              "        <td>2015-02-20 02:00:00</td>\n",
              "        <td>2015-02-20</td>\n",
              "        <td>02:00:00</td>\n",
              "        <td>6.5</td>\n",
              "        <td>5</td>\n",
              "        <td>95.5</td>\n",
              "        <td>0.0</td>\n",
              "        <td>0</td>\n",
              "        <td>0</td>\n",
              "        <td>0</td>\n",
              "        <td>230</td>\n",
              "        <td>\\N</td>\n",
              "        <td>0.2</td>\n",
              "        <td>0.0</td>\n",
              "    </tr>\n",
              "    <tr>\n",
              "        <td>3672</td>\n",
              "        <td>2015-02-20 03:00:00</td>\n",
              "        <td>2015-02-20</td>\n",
              "        <td>03:00:00</td>\n",
              "        <td>6.5</td>\n",
              "        <td>5</td>\n",
              "        <td>95.5</td>\n",
              "        <td>0.0</td>\n",
              "        <td>0</td>\n",
              "        <td>0</td>\n",
              "        <td>0</td>\n",
              "        <td>230</td>\n",
              "        <td>\\N</td>\n",
              "        <td>0.8</td>\n",
              "        <td>0.0</td>\n",
              "    </tr>\n",
              "    <tr>\n",
              "        <td>3672</td>\n",
              "        <td>2015-02-20 04:00:00</td>\n",
              "        <td>2015-02-20</td>\n",
              "        <td>04:00:00</td>\n",
              "        <td>6.4</td>\n",
              "        <td>7</td>\n",
              "        <td>93.9</td>\n",
              "        <td>0.0</td>\n",
              "        <td>0</td>\n",
              "        <td>0</td>\n",
              "        <td>0</td>\n",
              "        <td>240</td>\n",
              "        <td>\\N</td>\n",
              "        <td>0.4</td>\n",
              "        <td>0.0</td>\n",
              "    </tr>\n",
              "    <tr>\n",
              "        <td>3672</td>\n",
              "        <td>2015-02-20 05:00:00</td>\n",
              "        <td>2015-02-20</td>\n",
              "        <td>05:00:00</td>\n",
              "        <td>6.1</td>\n",
              "        <td>6</td>\n",
              "        <td>92.4</td>\n",
              "        <td>0.0</td>\n",
              "        <td>0</td>\n",
              "        <td>0</td>\n",
              "        <td>0</td>\n",
              "        <td>270</td>\n",
              "        <td>\\N</td>\n",
              "        <td>0.2</td>\n",
              "        <td>0.0</td>\n",
              "    </tr>\n",
              "    <tr>\n",
              "        <td>3672</td>\n",
              "        <td>2015-02-20 06:00:00</td>\n",
              "        <td>2015-02-20</td>\n",
              "        <td>06:00:00</td>\n",
              "        <td>5.5</td>\n",
              "        <td>7</td>\n",
              "        <td>90.6</td>\n",
              "        <td>0.0</td>\n",
              "        <td>0</td>\n",
              "        <td>0</td>\n",
              "        <td>0</td>\n",
              "        <td>280</td>\n",
              "        <td>\\N</td>\n",
              "        <td>0</td>\n",
              "        <td>0.0</td>\n",
              "    </tr>\n",
              "    <tr>\n",
              "        <td>3672</td>\n",
              "        <td>2015-02-20 07:00:00</td>\n",
              "        <td>2015-02-20</td>\n",
              "        <td>07:00:00</td>\n",
              "        <td>4.7</td>\n",
              "        <td>5</td>\n",
              "        <td>91.9</td>\n",
              "        <td>0.0</td>\n",
              "        <td>0</td>\n",
              "        <td>0</td>\n",
              "        <td>0</td>\n",
              "        <td>290</td>\n",
              "        <td>\\N</td>\n",
              "        <td>0</td>\n",
              "        <td>0.0</td>\n",
              "    </tr>\n",
              "    <tr>\n",
              "        <td>3672</td>\n",
              "        <td>2015-02-20 08:00:00</td>\n",
              "        <td>2015-02-20</td>\n",
              "        <td>08:00:00</td>\n",
              "        <td>4.5</td>\n",
              "        <td>3</td>\n",
              "        <td>91.7</td>\n",
              "        <td>0.0</td>\n",
              "        <td>0</td>\n",
              "        <td>0</td>\n",
              "        <td>0</td>\n",
              "        <td>290</td>\n",
              "        <td>\\N</td>\n",
              "        <td>0</td>\n",
              "        <td>0.0</td>\n",
              "    </tr>\n",
              "    <tr>\n",
              "        <td>3672</td>\n",
              "        <td>2015-02-20 09:00:00</td>\n",
              "        <td>2015-02-20</td>\n",
              "        <td>09:00:00</td>\n",
              "        <td>4.9</td>\n",
              "        <td>2</td>\n",
              "        <td>92.0</td>\n",
              "        <td>0.0</td>\n",
              "        <td>0</td>\n",
              "        <td>0</td>\n",
              "        <td>0</td>\n",
              "        <td>270</td>\n",
              "        <td>\\N</td>\n",
              "        <td>0</td>\n",
              "        <td>0.0</td>\n",
              "    </tr>\n",
              "    <tr>\n",
              "        <td>3672</td>\n",
              "        <td>2015-02-20 10:00:00</td>\n",
              "        <td>2015-02-20</td>\n",
              "        <td>10:00:00</td>\n",
              "        <td>5.3</td>\n",
              "        <td>2</td>\n",
              "        <td>90.5</td>\n",
              "        <td>0.0</td>\n",
              "        <td>0</td>\n",
              "        <td>0</td>\n",
              "        <td>0</td>\n",
              "        <td>340</td>\n",
              "        <td>\\N</td>\n",
              "        <td>0</td>\n",
              "        <td>0.0</td>\n",
              "    </tr>\n",
              "    <tr>\n",
              "        <td>3672</td>\n",
              "        <td>2015-02-20 11:00:00</td>\n",
              "        <td>2015-02-20</td>\n",
              "        <td>11:00:00</td>\n",
              "        <td>5.8</td>\n",
              "        <td>2</td>\n",
              "        <td>84.6</td>\n",
              "        <td>0.0</td>\n",
              "        <td>0</td>\n",
              "        <td>0</td>\n",
              "        <td>0</td>\n",
              "        <td>310</td>\n",
              "        <td>\\N</td>\n",
              "        <td>0</td>\n",
              "        <td>0.0</td>\n",
              "    </tr>\n",
              "</table>"
            ]
          },
          "metadata": {},
          "execution_count": 40
        }
      ]
    },
    {
      "cell_type": "code",
      "source": [
        "%%sql\n",
        "delete from tempW where rainfall is null;"
      ],
      "metadata": {
        "id": "a52m1u8wER3u",
        "colab": {
          "base_uri": "https://localhost:8080/"
        },
        "outputId": "0435dac3-3dfb-4a66-ee44-a270e5535f0d"
      },
      "execution_count": 37,
      "outputs": [
        {
          "output_type": "stream",
          "name": "stdout",
          "text": [
            " * sqlite:///weather.db\n",
            "Done.\n",
            "4 rows affected.\n"
          ]
        },
        {
          "output_type": "execute_result",
          "data": {
            "text/plain": [
              "[]"
            ]
          },
          "metadata": {},
          "execution_count": 37
        }
      ]
    },
    {
      "cell_type": "markdown",
      "source": [
        "## Exercise 3\n",
        "From this table also delete the `timestamp` column from the schema."
      ],
      "metadata": {
        "id": "WhYHEnibESl6"
      }
    },
    {
      "cell_type": "code",
      "source": [
        "%%sql\n",
        "alter table tempW drop  timestamp ;"
      ],
      "metadata": {
        "id": "MErTbR9METEe",
        "colab": {
          "base_uri": "https://localhost:8080/"
        },
        "outputId": "2774db65-ec19-4d72-8dd2-0a92914bec36"
      },
      "execution_count": 39,
      "outputs": [
        {
          "output_type": "stream",
          "name": "stdout",
          "text": [
            " * sqlite:///weather.db\n",
            "Done.\n"
          ]
        },
        {
          "output_type": "execute_result",
          "data": {
            "text/plain": [
              "[]"
            ]
          },
          "metadata": {},
          "execution_count": 39
        }
      ]
    }
  ]
}